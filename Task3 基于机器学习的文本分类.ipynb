{
 "cells": [
  {
   "cell_type": "code",
   "execution_count": null,
   "metadata": {},
   "outputs": [],
   "source": [
    "import pandas as pd\n",
    "from sklearn.feature_extraction.text import CountVectorizer\n",
    "from sklearn.linear_model import RidgeClassifier\n",
    "from sklearn.metrics import f1_score"
   ]
  },
  {
   "cell_type": "code",
   "execution_count": 54,
   "metadata": {},
   "outputs": [
    {
     "data": {
      "text/html": [
       "<div>\n",
       "<style scoped>\n",
       "    .dataframe tbody tr th:only-of-type {\n",
       "        vertical-align: middle;\n",
       "    }\n",
       "\n",
       "    .dataframe tbody tr th {\n",
       "        vertical-align: top;\n",
       "    }\n",
       "\n",
       "    .dataframe thead th {\n",
       "        text-align: right;\n",
       "    }\n",
       "</style>\n",
       "<table border=\"1\" class=\"dataframe\">\n",
       "  <thead>\n",
       "    <tr style=\"text-align: right;\">\n",
       "      <th></th>\n",
       "      <th>label</th>\n",
       "      <th>text</th>\n",
       "    </tr>\n",
       "  </thead>\n",
       "  <tbody>\n",
       "    <tr>\n",
       "      <th>0</th>\n",
       "      <td>2</td>\n",
       "      <td>2967 6758 339 2021 1854 3731 4109 3792 4149 15...</td>\n",
       "    </tr>\n",
       "    <tr>\n",
       "      <th>1</th>\n",
       "      <td>11</td>\n",
       "      <td>4464 486 6352 5619 2465 4802 1452 3137 5778 54...</td>\n",
       "    </tr>\n",
       "    <tr>\n",
       "      <th>2</th>\n",
       "      <td>3</td>\n",
       "      <td>7346 4068 5074 3747 5681 6093 1777 2226 7354 6...</td>\n",
       "    </tr>\n",
       "    <tr>\n",
       "      <th>3</th>\n",
       "      <td>2</td>\n",
       "      <td>7159 948 4866 2109 5520 2490 211 3956 5520 549...</td>\n",
       "    </tr>\n",
       "    <tr>\n",
       "      <th>4</th>\n",
       "      <td>3</td>\n",
       "      <td>3646 3055 3055 2490 4659 6065 3370 5814 2465 5...</td>\n",
       "    </tr>\n",
       "  </tbody>\n",
       "</table>\n",
       "</div>"
      ],
      "text/plain": [
       "   label                                               text\n",
       "0      2  2967 6758 339 2021 1854 3731 4109 3792 4149 15...\n",
       "1     11  4464 486 6352 5619 2465 4802 1452 3137 5778 54...\n",
       "2      3  7346 4068 5074 3747 5681 6093 1777 2226 7354 6...\n",
       "3      2  7159 948 4866 2109 5520 2490 211 3956 5520 549...\n",
       "4      3  3646 3055 3055 2490 4659 6065 3370 5814 2465 5..."
      ]
     },
     "execution_count": 54,
     "metadata": {},
     "output_type": "execute_result"
    }
   ],
   "source": [
    "train_df = pd.read_csv('train_set.csv.xls', sep = '\\t', nrows = 15000)\n",
    "train_df.head()"
   ]
  },
  {
   "cell_type": "code",
   "execution_count": 55,
   "metadata": {},
   "outputs": [
    {
     "data": {
      "text/html": [
       "<div>\n",
       "<style scoped>\n",
       "    .dataframe tbody tr th:only-of-type {\n",
       "        vertical-align: middle;\n",
       "    }\n",
       "\n",
       "    .dataframe tbody tr th {\n",
       "        vertical-align: top;\n",
       "    }\n",
       "\n",
       "    .dataframe thead th {\n",
       "        text-align: right;\n",
       "    }\n",
       "</style>\n",
       "<table border=\"1\" class=\"dataframe\">\n",
       "  <thead>\n",
       "    <tr style=\"text-align: right;\">\n",
       "      <th></th>\n",
       "      <th>label</th>\n",
       "      <th>text</th>\n",
       "    </tr>\n",
       "  </thead>\n",
       "  <tbody>\n",
       "    <tr>\n",
       "      <th>14995</th>\n",
       "      <td>5</td>\n",
       "      <td>1822 6040 5744 5310 4578 4407 6242 2313 3466 2...</td>\n",
       "    </tr>\n",
       "    <tr>\n",
       "      <th>14996</th>\n",
       "      <td>9</td>\n",
       "      <td>88 7400 7539 4516 6122 290 6831 465 1647 6293 ...</td>\n",
       "    </tr>\n",
       "    <tr>\n",
       "      <th>14997</th>\n",
       "      <td>0</td>\n",
       "      <td>2597 7160 2282 1407 4403 4516 2873 4597 7037 5...</td>\n",
       "    </tr>\n",
       "    <tr>\n",
       "      <th>14998</th>\n",
       "      <td>0</td>\n",
       "      <td>2400 4411 4721 3289 5787 5096 4464 6250 1324 6...</td>\n",
       "    </tr>\n",
       "    <tr>\n",
       "      <th>14999</th>\n",
       "      <td>8</td>\n",
       "      <td>4188 5778 5296 5640 2835 648 6122 2489 2923 39...</td>\n",
       "    </tr>\n",
       "  </tbody>\n",
       "</table>\n",
       "</div>"
      ],
      "text/plain": [
       "       label                                               text\n",
       "14995      5  1822 6040 5744 5310 4578 4407 6242 2313 3466 2...\n",
       "14996      9  88 7400 7539 4516 6122 290 6831 465 1647 6293 ...\n",
       "14997      0  2597 7160 2282 1407 4403 4516 2873 4597 7037 5...\n",
       "14998      0  2400 4411 4721 3289 5787 5096 4464 6250 1324 6...\n",
       "14999      8  4188 5778 5296 5640 2835 648 6122 2489 2923 39..."
      ]
     },
     "execution_count": 55,
     "metadata": {},
     "output_type": "execute_result"
    }
   ],
   "source": [
    "train_df.tail()"
   ]
  },
  {
   "cell_type": "code",
   "execution_count": 56,
   "metadata": {},
   "outputs": [
    {
     "name": "stdout",
     "output_type": "stream",
     "text": [
      "  (0, 275)\t6\n",
      "  (0, 141)\t2\n",
      "  (0, 113)\t1\n",
      "  (0, 400)\t10\n",
      "  (0, 449)\t12\n",
      "  (0, 410)\t7\n",
      "  (0, 460)\t3\n",
      "  (0, 69)\t7\n",
      "  (0, 144)\t2\n",
      "  (0, 425)\t2\n",
      "  (0, 209)\t2\n",
      "  (0, 200)\t7\n",
      "  (0, 21)\t5\n",
      "  (0, 836)\t5\n",
      "  (0, 964)\t4\n",
      "  (0, 237)\t2\n",
      "  (0, 206)\t2\n",
      "  (0, 569)\t11\n",
      "  (0, 36)\t2\n",
      "  (0, 151)\t4\n",
      "  (0, 669)\t2\n",
      "  (0, 902)\t1\n",
      "  (0, 759)\t1\n",
      "  (0, 382)\t1\n",
      "  (0, 367)\t2\n",
      "  :\t:\n",
      "  (14999, 373)\t16\n",
      "  (14999, 577)\t10\n",
      "  (14999, 161)\t4\n",
      "  (14999, 907)\t4\n",
      "  (14999, 621)\t14\n",
      "  (14999, 447)\t6\n",
      "  (14999, 885)\t1\n",
      "  (14999, 581)\t1\n",
      "  (14999, 231)\t1\n",
      "  (14999, 299)\t1\n",
      "  (14999, 278)\t2\n",
      "  (14999, 451)\t1\n",
      "  (14999, 211)\t1\n",
      "  (14999, 292)\t1\n",
      "  (14999, 80)\t3\n",
      "  (14999, 67)\t1\n",
      "  (14999, 139)\t4\n",
      "  (14999, 263)\t9\n",
      "  (14999, 357)\t6\n",
      "  (14999, 376)\t1\n",
      "  (14999, 39)\t1\n",
      "  (14999, 363)\t1\n",
      "  (14999, 489)\t1\n",
      "  (14999, 346)\t1\n",
      "  (14999, 828)\t1\n"
     ]
    }
   ],
   "source": [
    "vectorizer = CountVectorizer(max_features = 1000)\n",
    "train = vectorizer.fit_transform(train_df['text'])\n",
    "print(train)"
   ]
  },
  {
   "cell_type": "code",
   "execution_count": 57,
   "metadata": {},
   "outputs": [
    {
     "data": {
      "text/plain": [
       "RidgeClassifier(alpha=1.0, class_weight=None, copy_X=True, fit_intercept=True,\n",
       "                max_iter=None, normalize=False, random_state=None,\n",
       "                solver='auto', tol=0.001)"
      ]
     },
     "execution_count": 57,
     "metadata": {},
     "output_type": "execute_result"
    }
   ],
   "source": [
    "clf = RidgeClassifier()\n",
    "clf.fit(train[:10000], train_df['label'].values[:10000])"
   ]
  },
  {
   "cell_type": "code",
   "execution_count": 58,
   "metadata": {},
   "outputs": [
    {
     "name": "stdout",
     "output_type": "stream",
     "text": [
      "0.7391238887456859\n"
     ]
    }
   ],
   "source": [
    "val_pred = clf.predict(train[10000:])\n",
    "print(f1_score(train_df['label'].values[10000:], val_pred, average='macro'))"
   ]
  },
  {
   "cell_type": "markdown",
   "metadata": {},
   "source": [
    "## TF-IDF + RidgeClassifier"
   ]
  },
  {
   "cell_type": "code",
   "execution_count": 59,
   "metadata": {},
   "outputs": [],
   "source": [
    "import pandas as pd \n",
    "from sklearn.feature_extraction.text import TfidfVectorizer\n",
    "from sklearn.linear_model import RidgeClassifier\n",
    "from sklearn.metrics import f1_score"
   ]
  },
  {
   "cell_type": "code",
   "execution_count": 60,
   "metadata": {},
   "outputs": [],
   "source": [
    "train_df = pd.read_csv('train_set.csv.xls', sep = '\\t', nrows = 15000)\n",
    "vectorizer1 = TfidfVectorizer(ngram_range = (1,3),max_features = 1000)\n",
    "train = vectorizer1.fit_transform(train_df['text'])"
   ]
  },
  {
   "cell_type": "code",
   "execution_count": 63,
   "metadata": {},
   "outputs": [
    {
     "data": {
      "text/plain": [
       "RidgeClassifier(alpha=1.0, class_weight=None, copy_X=True, fit_intercept=True,\n",
       "                max_iter=None, normalize=False, random_state=None,\n",
       "                solver='auto', tol=0.001)"
      ]
     },
     "execution_count": 63,
     "metadata": {},
     "output_type": "execute_result"
    }
   ],
   "source": [
    "clf1 = RidgeClassifier()\n",
    "clf1.fit(train[:10000], train_df['label'][:10000])"
   ]
  },
  {
   "cell_type": "code",
   "execution_count": 64,
   "metadata": {},
   "outputs": [
    {
     "name": "stdout",
     "output_type": "stream",
     "text": [
      "0.8270776630718544\n"
     ]
    }
   ],
   "source": [
    "val_pred = clf1.predict(train[10000:])\n",
    "print(f1_score(train_df['label'][10000:], val_pred, average = 'macro'))"
   ]
  },
  {
   "cell_type": "code",
   "execution_count": null,
   "metadata": {},
   "outputs": [],
   "source": []
  },
  {
   "cell_type": "code",
   "execution_count": null,
   "metadata": {},
   "outputs": [],
   "source": []
  }
 ],
 "metadata": {
  "kernelspec": {
   "display_name": "Python 3",
   "language": "python",
   "name": "python3"
  }
 },
 "nbformat": 4,
 "nbformat_minor": 4
}
